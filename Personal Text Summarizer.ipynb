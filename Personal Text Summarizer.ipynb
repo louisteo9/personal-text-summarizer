{
 "cells": [
  {
   "cell_type": "markdown",
   "metadata": {},
   "source": [
    "## Import libraries"
   ]
  },
  {
   "cell_type": "markdown",
   "metadata": {},
   "source": [
    "First, let's import libraries that we will need."
   ]
  },
  {
   "cell_type": "code",
   "execution_count": 1,
   "metadata": {},
   "outputs": [
    {
     "name": "stderr",
     "output_type": "stream",
     "text": [
      "[nltk_data] Downloading package stopwords to\n",
      "[nltk_data]     C:\\Users\\Louis.Teo\\AppData\\Roaming\\nltk_data...\n",
      "[nltk_data]   Package stopwords is already up-to-date!\n",
      "[nltk_data] Downloading package punkt to\n",
      "[nltk_data]     C:\\Users\\Louis.Teo\\AppData\\Roaming\\nltk_data...\n",
      "[nltk_data]   Package punkt is already up-to-date!\n"
     ]
    }
   ],
   "source": [
    "# Natural Language Tool Kit (NLTK)\n",
    "import nltk\n",
    "nltk.download('stopwords')\n",
    "nltk.download('punkt')\n",
    "\n",
    "# Regular Expression for text preprocessing\n",
    "import re\n",
    "\n",
    "# Heap (priority) queue algorithm to get the top sentences\n",
    "import heapq\n",
    "\n",
    "# NumPy for numerical computing\n",
    "import numpy as np\n",
    "\n",
    "# pandas for creating DataFrames\n",
    "import pandas as pd\n",
    "\n",
    "# matplotlib for plot\n",
    "from matplotlib import pyplot as plt\n",
    "%matplotlib inline"
   ]
  },
  {
   "cell_type": "markdown",
   "metadata": {},
   "source": [
    "## Load text data"
   ]
  },
  {
   "cell_type": "markdown",
   "metadata": {},
   "source": [
    "I used the text from a news article entitled **Apple Acquires AI Startup For $50 Million To Advance Its Apps**. \n",
    "\n",
    "You can find the original news article here:\n",
    "https://analyticsindiamag.com/apple-acquires-ai-startup-for-50-million-to-advance-its-apps/"
   ]
  },
  {
   "cell_type": "code",
   "execution_count": 2,
   "metadata": {},
   "outputs": [],
   "source": [
    "# load text file\n",
    "with open('Apple_Acquires_AI_Startup.txt', 'r') as f:\n",
    "    file_data = f.read()"
   ]
  },
  {
   "cell_type": "markdown",
   "metadata": {},
   "source": [
    "Let's take a look at the text."
   ]
  },
  {
   "cell_type": "code",
   "execution_count": 3,
   "metadata": {},
   "outputs": [
    {
     "name": "stdout",
     "output_type": "stream",
     "text": [
      "In an attempt to scale up its AI portfolio, Apple has acquired Spain-based AI video startup — Vilynx for approximately $50 million.\n",
      "\n",
      "Reported by Bloomberg, the AI startup — Vilynx is headquartered in Barcelona, which is known to build software using computer vision to analyse a video’s visual, text, and audio content with the goal of “understanding” what’s in the video. This helps it categorising and tagging metadata to the videos, as well as generate automated video previews, and recommend related content to users, according to the company website.\n",
      "\n",
      "Apple told the media that the company typically acquires smaller technology companies from time to time, and with the recent buy, the company could potentially use Vilynx’s technology to help improve a variety of apps. According to the media, Siri, search, Photos, and other apps that rely on Apple are possible candidates as are Apple TV, Music, News, to name a few that are going to be revolutionised with Vilynx’s technology.\n",
      "\n",
      "With CEO Tim Cook’s vision of the potential of augmented reality, the company could also make use of AI-based tools like Vilynx. \n",
      "\n",
      "The purchase will also advance Apple’s AI expertise, adding up to 50 engineers and data scientists joining from Vilynx, and the startup is going to become one of Apple’s key AI research hubs in Europe, according to the news.\n",
      "\n",
      "Apple has made significant progress in the space of artificial intelligence over the past few months, with this purchase of UK-based Spectral Edge last December, Seattle-based Xnor.ai for $200 million and Voysis and Inductiv to help it improve Siri. With its habit of quietly purchasing smaller companies, Apple is making a mark in the AI space. In 2018, CEO Tim Cook said in an interview that the company had bought 20 companies over six months, while only six were public knowledge.\n"
     ]
    }
   ],
   "source": [
    "# view text data\n",
    "print(file_data)"
   ]
  },
  {
   "cell_type": "markdown",
   "metadata": {},
   "source": [
    "## Preprocess text"
   ]
  },
  {
   "cell_type": "markdown",
   "metadata": {},
   "source": [
    "We use regular expression to do text preprocessing. We will:\n",
    "1. replace reference number with empty space, if any...\n",
    "2. replace one or more spaces with single space."
   ]
  },
  {
   "cell_type": "code",
   "execution_count": 4,
   "metadata": {},
   "outputs": [
    {
     "name": "stdout",
     "output_type": "stream",
     "text": [
      "In an attempt to scale up its AI portfolio, Apple has acquired Spain-based AI video startup — Vilynx for approximately $50 million. Reported by Bloomberg, the AI startup — Vilynx is headquartered in Barcelona, which is known to build software using computer vision to analyse a video’s visual, text, and audio content with the goal of “understanding” what’s in the video. This helps it categorising and tagging metadata to the videos, as well as generate automated video previews, and recommend related content to users, according to the company website. Apple told the media that the company typically acquires smaller technology companies from time to time, and with the recent buy, the company could potentially use Vilynx’s technology to help improve a variety of apps. According to the media, Siri, search, Photos, and other apps that rely on Apple are possible candidates as are Apple TV, Music, News, to name a few that are going to be revolutionised with Vilynx’s technology. With CEO Tim Cook’s vision of the potential of augmented reality, the company could also make use of AI-based tools like Vilynx. The purchase will also advance Apple’s AI expertise, adding up to 50 engineers and data scientists joining from Vilynx, and the startup is going to become one of Apple’s key AI research hubs in Europe, according to the news. Apple has made significant progress in the space of artificial intelligence over the past few months, with this purchase of UK-based Spectral Edge last December, Seattle-based Xnor.ai for $200 million and Voysis and Inductiv to help it improve Siri. With its habit of quietly purchasing smaller companies, Apple is making a mark in the AI space. In 2018, CEO Tim Cook said in an interview that the company had bought 20 companies over six months, while only six were public knowledge.\n"
     ]
    }
   ],
   "source": [
    "text = file_data\n",
    "text = re.sub(r'\\[[0-9]*\\]',' ',text) # replace reference number i.e. [1], [10], [20] with empty space, if any..\n",
    "text = re.sub(r'\\s+',' ',text) # replace one or more spaces with single space\n",
    "print(text)"
   ]
  },
  {
   "cell_type": "markdown",
   "metadata": {},
   "source": [
    "Next, we form a **clean text** with lower case (without special characters, digits and extra spaces) and split it into individual word, for word score computation and formation of the word histogram. \n",
    "\n",
    "The reason to form a clean text is so that the algorithm won't treat, i.e. **\"understanding\"** and **understanding**, as two different words."
   ]
  },
  {
   "cell_type": "code",
   "execution_count": 5,
   "metadata": {},
   "outputs": [
    {
     "name": "stdout",
     "output_type": "stream",
     "text": [
      "in an attempt to scale up its ai portfolio apple has acquired spain based ai video startup vilynx for approximately million reported by bloomberg the ai startup vilynx is headquartered in barcelona which is known to build software using computer vision to analyse a video s visual text and audio content with the goal of understanding what s in the video this helps it categorising and tagging metadata to the videos as well as generate automated video previews and recommend related content to users according to the company website apple told the media that the company typically acquires smaller technology companies from time to time and with the recent buy the company could potentially use vilynx s technology to help improve a variety of apps according to the media siri search photos and other apps that rely on apple are possible candidates as are apple tv music news to name a few that are going to be revolutionised with vilynx s technology with ceo tim cook s vision of the potential of augmented reality the company could also make use of ai based tools like vilynx the purchase will also advance apple s ai expertise adding up to engineers and data scientists joining from vilynx and the startup is going to become one of apple s key ai research hubs in europe according to the news apple has made significant progress in the space of artificial intelligence over the past few months with this purchase of uk based spectral edge last december seattle based xnor ai for million and voysis and inductiv to help it improve siri with its habit of quietly purchasing smaller companies apple is making a mark in the ai space in ceo tim cook said in an interview that the company had bought companies over six months while only six were public knowledge \n"
     ]
    }
   ],
   "source": [
    "# generate clean text\n",
    "clean_text = text.lower() # convert all uppercase characters into lowercase characters\n",
    "\n",
    "# replace characters other than [a-zA-Z0-9], digits & one or more spaces with single space\n",
    "regex_patterns = [r'\\W',r'\\d',r'\\s+']\n",
    "for regex in regex_patterns:\n",
    "    clean_text = re.sub(regex,' ',clean_text)\n",
    "\n",
    "print(clean_text)"
   ]
  },
  {
   "cell_type": "markdown",
   "metadata": {},
   "source": [
    "## Split text into sentences"
   ]
  },
  {
   "cell_type": "markdown",
   "metadata": {},
   "source": [
    "We split (tokenize) the text into sentences using NLTK **sent_tokenize()** method. We will evaluate the importance of each of sentences, then decide if we should each include in our summary. "
   ]
  },
  {
   "cell_type": "code",
   "execution_count": 6,
   "metadata": {},
   "outputs": [
    {
     "name": "stdout",
     "output_type": "stream",
     "text": [
      "['In an attempt to scale up its AI portfolio, Apple has acquired Spain-based AI video startup — Vilynx for approximately $50 million.', 'Reported by Bloomberg, the AI startup — Vilynx is headquartered in Barcelona, which is known to build software using computer vision to analyse a video’s visual, text, and audio content with the goal of “understanding” what’s in the video.', 'This helps it categorising and tagging metadata to the videos, as well as generate automated video previews, and recommend related content to users, according to the company website.', 'Apple told the media that the company typically acquires smaller technology companies from time to time, and with the recent buy, the company could potentially use Vilynx’s technology to help improve a variety of apps.', 'According to the media, Siri, search, Photos, and other apps that rely on Apple are possible candidates as are Apple TV, Music, News, to name a few that are going to be revolutionised with Vilynx’s technology.', 'With CEO Tim Cook’s vision of the potential of augmented reality, the company could also make use of AI-based tools like Vilynx.', 'The purchase will also advance Apple’s AI expertise, adding up to 50 engineers and data scientists joining from Vilynx, and the startup is going to become one of Apple’s key AI research hubs in Europe, according to the news.', 'Apple has made significant progress in the space of artificial intelligence over the past few months, with this purchase of UK-based Spectral Edge last December, Seattle-based Xnor.ai for $200 million and Voysis and Inductiv to help it improve Siri.', 'With its habit of quietly purchasing smaller companies, Apple is making a mark in the AI space.', 'In 2018, CEO Tim Cook said in an interview that the company had bought 20 companies over six months, while only six were public knowledge.']\n"
     ]
    }
   ],
   "source": [
    "# split (tokenize) the sentences\n",
    "sentences = nltk.sent_tokenize(text)\n",
    "print(sentences)"
   ]
  },
  {
   "cell_type": "markdown",
   "metadata": {},
   "source": [
    "## Remove stop words\n",
    "\n",
    "Stop words are English words which do not add much meaning to a sentence. They can be safely ignored without sacrificing the meaning of the sentence. We already downloaded a file with English stop words in the first section of the notebook. \n",
    "\n",
    "Here, we will get the list of stop words and store them in **stop_word** variable."
   ]
  },
  {
   "cell_type": "code",
   "execution_count": 7,
   "metadata": {},
   "outputs": [
    {
     "name": "stdout",
     "output_type": "stream",
     "text": [
      "['i', 'me', 'my', 'myself', 'we', 'our', 'ours', 'ourselves', 'you', \"you're\", \"you've\", \"you'll\", \"you'd\", 'your', 'yours', 'yourself', 'yourselves', 'he', 'him', 'his', 'himself', 'she', \"she's\", 'her', 'hers', 'herself', 'it', \"it's\", 'its', 'itself', 'they', 'them', 'their', 'theirs', 'themselves', 'what', 'which', 'who', 'whom', 'this', 'that', \"that'll\", 'these', 'those', 'am', 'is', 'are', 'was', 'were', 'be', 'been', 'being', 'have', 'has', 'had', 'having', 'do', 'does', 'did', 'doing', 'a', 'an', 'the', 'and', 'but', 'if', 'or', 'because', 'as', 'until', 'while', 'of', 'at', 'by', 'for', 'with', 'about', 'against', 'between', 'into', 'through', 'during', 'before', 'after', 'above', 'below', 'to', 'from', 'up', 'down', 'in', 'out', 'on', 'off', 'over', 'under', 'again', 'further', 'then', 'once', 'here', 'there', 'when', 'where', 'why', 'how', 'all', 'any', 'both', 'each', 'few', 'more', 'most', 'other', 'some', 'such', 'no', 'nor', 'not', 'only', 'own', 'same', 'so', 'than', 'too', 'very', 's', 't', 'can', 'will', 'just', 'don', \"don't\", 'should', \"should've\", 'now', 'd', 'll', 'm', 'o', 're', 've', 'y', 'ain', 'aren', \"aren't\", 'couldn', \"couldn't\", 'didn', \"didn't\", 'doesn', \"doesn't\", 'hadn', \"hadn't\", 'hasn', \"hasn't\", 'haven', \"haven't\", 'isn', \"isn't\", 'ma', 'mightn', \"mightn't\", 'mustn', \"mustn't\", 'needn', \"needn't\", 'shan', \"shan't\", 'shouldn', \"shouldn't\", 'wasn', \"wasn't\", 'weren', \"weren't\", 'won', \"won't\", 'wouldn', \"wouldn't\"]\n"
     ]
    }
   ],
   "source": [
    "# get stop words list\n",
    "stop_words = nltk.corpus.stopwords.words('english')\n",
    "print(stop_words)"
   ]
  },
  {
   "cell_type": "markdown",
   "metadata": {},
   "source": [
    "## Build word histogram"
   ]
  },
  {
   "cell_type": "markdown",
   "metadata": {},
   "source": [
    "Let's evaluate the importance of each word based on how many times it appears in the entire text.\n",
    "\n",
    "We will do so by 1) splitting the words in **clean_text**, 2) removing the stop words, and then 3) checking the frequency of each word as it appears in the text."
   ]
  },
  {
   "cell_type": "code",
   "execution_count": 8,
   "metadata": {},
   "outputs": [],
   "source": [
    "# create an empty dictionary to house the word count\n",
    "word_count = {}\n",
    "\n",
    "# loop through tokenized words, remove stop words and save word count to dictionary\n",
    "for word in nltk.word_tokenize(clean_text):\n",
    "    # remove stop words\n",
    "    if word not in stop_words:\n",
    "        # save word count to dictionary\n",
    "        if word not in word_count.keys():\n",
    "            word_count[word] = 1\n",
    "        else:\n",
    "            word_count[word] += 1"
   ]
  },
  {
   "cell_type": "markdown",
   "metadata": {},
   "source": [
    "Let's plot the word histogram and see the results."
   ]
  },
  {
   "cell_type": "code",
   "execution_count": 9,
   "metadata": {},
   "outputs": [
    {
     "data": {
      "image/png": "[encoded data removed]",
      "text/plain": [
       "<Figure size 1152x720 with 1 Axes>"
      ]
     },
     "metadata": {
      "needs_background": "light"
     },
     "output_type": "display_data"
    }
   ],
   "source": [
    "plt.figure(figsize=(16,10))\n",
    "plt.xticks(rotation = 90)\n",
    "plt.bar(word_count.keys(), word_count.values())\n",
    "plt.show()"
   ]
  },
  {
   "cell_type": "markdown",
   "metadata": {},
   "source": [
    "Ahhh... it's a bit difficult to read the plot. Let's convert it to horizontal bar plot and display only the top 20 words with a helper function below."
   ]
  },
  {
   "cell_type": "code",
   "execution_count": 10,
   "metadata": {},
   "outputs": [],
   "source": [
    "# helper function for plotting the top words.\n",
    "def plot_top_words(word_count_dict, show_top_n=20):\n",
    "    \"\"\"\n",
    "    Plot top words\n",
    "    \n",
    "    INPUT:\n",
    "    word_count_dict - dict. word count housed in a dictionary\n",
    "    show_top_n - int. top n words to display (default 20)\n",
    "    \n",
    "    OUTPUT:\n",
    "    Plot with top n words\n",
    "    \n",
    "    \"\"\"\n",
    "    word_count_table = pd.DataFrame.from_dict(word_count_dict, orient = 'index').rename(columns={0: 'score'})\n",
    "    word_count_table.sort_values(by='score').tail(show_top_n).plot(kind='barh', figsize=(10,10))\n",
    "    plt.show()"
   ]
  },
  {
   "cell_type": "code",
   "execution_count": 11,
   "metadata": {},
   "outputs": [
    {
     "data": {
      "image/png": "[encoded data removed]",
      "text/plain": [
       "<Figure size 720x720 with 1 Axes>"
      ]
     },
     "metadata": {
      "needs_background": "light"
     },
     "output_type": "display_data"
    }
   ],
   "source": [
    "plot_top_words(word_count, 20)"
   ]
  },
  {
   "cell_type": "markdown",
   "metadata": {},
   "source": [
    "From the plot above, we can see the words **'ai'** and **'apple'** appear on the top. This makes sense because the article is about Apple acquiring an AI startup."
   ]
  },
  {
   "cell_type": "markdown",
   "metadata": {},
   "source": [
    "## Rank sentences based on scores\n",
    "\n",
    "Now, we are going to rank the importance of each sentence based on sentence score. We will:\n",
    "\n",
    "- remove sentences that have more than **30** words, recognizing that long sentences may not always be meaningful;\n",
    "- then, add score from each word that forms the sentence to form the sentence score.\n",
    "\n",
    "Sentence that have high scores will form our top sentences. The top sentences will form our summary later."
   ]
  },
  {
   "cell_type": "code",
   "execution_count": 12,
   "metadata": {},
   "outputs": [],
   "source": [
    "# create empty dictionary to house sentence score    \n",
    "sentence_score = {}\n",
    "\n",
    "# loop through tokenized sentence, only take sentences that have less than 30 words, then add word score to form sentence score\n",
    "for sentence in sentences:\n",
    "    # check if word in sentence is in word_count dictionary\n",
    "    for word in nltk.word_tokenize(sentence.lower()):\n",
    "        if word in word_count.keys():\n",
    "            # only take sentence that has less than 30 words\n",
    "            if len(sentence.split(' ')) < 30:\n",
    "                # add word score to sentence score\n",
    "                if sentence not in sentence_score.keys():\n",
    "                    sentence_score[sentence] = word_count[word]\n",
    "                else:\n",
    "                    sentence_score[sentence] += word_count[word]"
   ]
  },
  {
   "cell_type": "markdown",
   "metadata": {},
   "source": [
    "We convert the **sentence_score** dictionary to a DataFrame and display the sentences and scores.\n",
    "\n",
    "**Note**: dictionary doesn't allow you to sort the sentences based on scores, so you need to convert the data stored in dictionary to DataFrame."
   ]
  },
  {
   "cell_type": "code",
   "execution_count": 13,
   "metadata": {},
   "outputs": [
    {
     "data": {
      "text/html": [
       "<div>\n",
       "<style scoped>\n",
       "    .dataframe tbody tr th:only-of-type {\n",
       "        vertical-align: middle;\n",
       "    }\n",
       "\n",
       "    .dataframe tbody tr th {\n",
       "        vertical-align: top;\n",
       "    }\n",
       "\n",
       "    .dataframe thead th {\n",
       "        text-align: right;\n",
       "    }\n",
       "</style>\n",
       "<table border=\"1\" class=\"dataframe\">\n",
       "  <thead>\n",
       "    <tr style=\"text-align: right;\">\n",
       "      <th></th>\n",
       "      <th>score</th>\n",
       "    </tr>\n",
       "  </thead>\n",
       "  <tbody>\n",
       "    <tr>\n",
       "      <th>In an attempt to scale up its AI portfolio, Apple has acquired Spain-based AI video startup — Vilynx for approximately $50 million.</th>\n",
       "      <td>44</td>\n",
       "    </tr>\n",
       "    <tr>\n",
       "      <th>With CEO Tim Cook’s vision of the potential of augmented reality, the company could also make use of AI-based tools like Vilynx.</th>\n",
       "      <td>31</td>\n",
       "    </tr>\n",
       "    <tr>\n",
       "      <th>With its habit of quietly purchasing smaller companies, Apple is making a mark in the AI space.</th>\n",
       "      <td>28</td>\n",
       "    </tr>\n",
       "    <tr>\n",
       "      <th>This helps it categorising and tagging metadata to the videos, as well as generate automated video previews, and recommend related content to users, according to the company website.</th>\n",
       "      <td>27</td>\n",
       "    </tr>\n",
       "    <tr>\n",
       "      <th>In 2018, CEO Tim Cook said in an interview that the company had bought 20 companies over six months, while only six were public knowledge.</th>\n",
       "      <td>25</td>\n",
       "    </tr>\n",
       "  </tbody>\n",
       "</table>\n",
       "</div>"
      ],
      "text/plain": [
       "                                                    score\n",
       "In an attempt to scale up its AI portfolio, App...     44\n",
       "With CEO Tim Cook’s vision of the potential of ...     31\n",
       "With its habit of quietly purchasing smaller co...     28\n",
       "This helps it categorising and tagging metadata...     27\n",
       "In 2018, CEO Tim Cook said in an interview that...     25"
      ]
     },
     "execution_count": 13,
     "metadata": {},
     "output_type": "execute_result"
    }
   ],
   "source": [
    "df_sentence_score = pd.DataFrame.from_dict(sentence_score, orient = 'index').rename(columns={0: 'score'})\n",
    "df_sentence_score.sort_values(by='score', ascending = False)"
   ]
  },
  {
   "cell_type": "markdown",
   "metadata": {},
   "source": [
    "## Select top sentences for summary"
   ]
  },
  {
   "cell_type": "markdown",
   "metadata": {},
   "source": [
    "We use heap queue algorithm to select the top 3 sentences and store them in **best_sentences** variable.\n",
    "\n",
    "**Note:** I chose 3 because our text is a relatively short article."
   ]
  },
  {
   "cell_type": "code",
   "execution_count": 14,
   "metadata": {},
   "outputs": [],
   "source": [
    "# get the best 3 sentences for summary             \n",
    "best_sentences = heapq.nlargest(3, sentence_score, key=sentence_score.get)"
   ]
  },
  {
   "cell_type": "markdown",
   "metadata": {},
   "source": [
    "Let's display our text summary"
   ]
  },
  {
   "cell_type": "code",
   "execution_count": 15,
   "metadata": {},
   "outputs": [
    {
     "name": "stdout",
     "output_type": "stream",
     "text": [
      "SUMMARY\n",
      "------------------------\n",
      "In an attempt to scale up its AI portfolio, Apple has acquired Spain-based AI video startup — Vilynx for approximately $50 million.\n",
      "With CEO Tim Cook’s vision of the potential of augmented reality, the company could also make use of AI-based tools like Vilynx.\n",
      "With its habit of quietly purchasing smaller companies, Apple is making a mark in the AI space.\n"
     ]
    }
   ],
   "source": [
    "print('SUMMARY')\n",
    "print('------------------------')\n",
    "\n",
    "# display top sentences based on their sentence sequence in the original text\n",
    "for sentence in sentences:\n",
    "    if sentence in best_sentences:\n",
    "        print (sentence)"
   ]
  },
  {
   "cell_type": "markdown",
   "metadata": {},
   "source": [
    "## Insights & Analysis\n",
    "\n",
    "You have created your personal text summarizer in Python. The summary should look pretty decent."
   ]
  }
 ],
 "metadata": {
  "kernelspec": {
   "display_name": "Python 3",
   "language": "python",
   "name": "python3"
  },
  "language_info": {
   "codemirror_mode": {
    "name": "ipython",
    "version": 3
   },
   "file_extension": ".py",
   "mimetype": "text/x-python",
   "name": "python",
   "nbconvert_exporter": "python",
   "pygments_lexer": "ipython3",
   "version": "3.7.9"
  }
 },
 "nbformat": 4,
 "nbformat_minor": 4
}
